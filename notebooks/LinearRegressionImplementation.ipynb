{
 "cells": [
  {
   "cell_type": "code",
   "outputs": [],
   "source": [
    "import sys\n",
    "import numpy as np\n",
    "import pandas as pd\n",
    "from sklearn.model_selection import train_test_split\n",
    "from tqdm import tqdm\n",
    "import matplotlib.pyplot as plt\n",
    "import math\n"
   ],
   "metadata": {
    "collapsed": true,
    "ExecuteTime": {
     "end_time": "2024-02-12T22:36:47.780816Z",
     "start_time": "2024-02-12T22:36:47.773001Z"
    }
   },
   "id": "initial_id",
   "execution_count": 391
  },
  {
   "cell_type": "code",
   "outputs": [],
   "source": [
    "class LinearRegression:\n",
    "    \n",
    "    def __init__(self , iterations, learning_rate, tolerance, solution_type = 'gd' ,regularization = False, regularization_constant = 0):\n",
    "        self.low_rank = None\n",
    "        self.full_rank = None\n",
    "        self.X_test = None\n",
    "        self.std = None\n",
    "        self.X_train = None\n",
    "        self.mean = None\n",
    "        self.tolerance = tolerance\n",
    "        self.regularization_constant = regularization_constant\n",
    "        self.iterations = iterations\n",
    "        self.learning_rate = learning_rate\n",
    "        self.solution_type = solution_type\n",
    "        self.regularization = regularization\n",
    "        self.regularization_constant = regularization_constant\n",
    "\n",
    "    def normalize_train_data(self, X_train):\n",
    "        self.mean = np.mean(X_train, axis=0)\n",
    "        self.std = np.std(X_train, axis=0)\n",
    "        self.X_train = (X_train-self.mean)/self.std\n",
    "        return self.X_train\n",
    "    \n",
    "    def normalize_test_data(self, X_test):\n",
    "        self.X_test = (X_test-self.mean)/self.std\n",
    "        \n",
    "        return self.X_test\n",
    "   \n",
    "    @staticmethod\n",
    "    def add_column_zero(self, x):\n",
    "        x = np.column_stack((np.ones((x.shape[0], 1)), x))\n",
    "        return x\n",
    "     \n",
    "    def full_rank_check(self, X_train):\n",
    "        rank = np.linalg.matrix_rank(X_train)\n",
    "        if rank == min(X_train.shape):\n",
    "            self.full_rank = True\n",
    "        else:\n",
    "            self.full_rank = False\n",
    "        \n",
    "        return self.full_rank\n",
    "    \n",
    "    def low_rank_check(self, X_train):\n",
    "        if X_train.shape[0] < X_train.shape[1]:\n",
    "            self.low_rank = True\n",
    "        else:\n",
    "            self.low_rank = False\n",
    "            \n",
    "        return self.low_rank\n",
    "        \n",
    "    def closed_solution(self, X_train, y_train):\n",
    "        if self.regularization:\n",
    "            if self.full_rank_check(X_train) and not self.low_rank_check(X_train):\n",
    "                self.weights = np.matmul(np.linalg.inv(np.matmul(X_train.T,X_train) + self.regularization_constant * np.identity(X_train.shape[1])),(np.matmul(X_train.T,y_train)))\n",
    "            else:\n",
    "                print(\"Matrix is low rank\")\n",
    "                sys.exit()\n",
    "        else:\n",
    "            if self.full_rank_check(X_train) and not self.low_rank_check(X_train):\n",
    "                self.weights = np.linalg.inv(X_train.T.dot(X_train)).dot(X_train.T.dot(y_train))\n",
    "            else:\n",
    "                print(\"Matrix is low rank\")\n",
    "                sys.exit()\n",
    "    \n",
    "    @staticmethod\n",
    "    def sse_function(self, y_hat ,y ):\n",
    "        loss = np.sum(np.square(y_hat - y))\n",
    "        return loss\n",
    "    \n",
    "    @staticmethod\n",
    "    def rmse_function(self, y_hat , y):\n",
    "        return np.sqrt(self.sse_function(y_hat, y)/y_hat.shape[0])\n",
    "    \n",
    "    def cost_derivative(self, X, y):\n",
    "        return np.matmul(X.T,(np.matmul(X,self.weights)-y))\n",
    "    \n",
    "    def gradient_descent(self, X_train, y_train):\n",
    "        prev_error = np.inf\n",
    "        errors = list()\n",
    "        if self.regularization:\n",
    "            for i in tqdm(range(1,self.iterations), colour='MAGENTA'):\n",
    "                self.weights -= self.learning_rate*(self.cost_derivative(X_train, y_train) + (self.regularization_constant*self.weights))\n",
    "                y_hat = np.matmul(X_train,self.weights)\n",
    "                error = self.rmse_function(y_hat, y_train)\n",
    "                errors.append(error)\n",
    "                if np.abs(error-prev_error) < self.tolerance:\n",
    "                    print(\"Model Stopped learning\")\n",
    "                    break                \n",
    "                prev_error = error\n",
    "        else:\n",
    "            for i in tqdm(range(1,self.iterations), colour='MAGENTA'):\n",
    "                self.weights -= self.learning_rate*self.cost_derivative(X_train, y_train)\n",
    "                error = self.rmse_function(X_train, y_train)\n",
    "                errors.append(error)\n",
    "                if np.abs(error-prev_error) < self.tolerance:\n",
    "                    print(\"Model Stopped learning\")\n",
    "                    break                \n",
    "                prev_error = error\n",
    "        \n",
    "        self.plot_errors(errors)\n",
    "    \n",
    "    @staticmethod\n",
    "    def plot_errors(self, errors):\n",
    "        s = np.array(errors)\n",
    "        t = np.arange(s.size)\n",
    "\n",
    "        fig, ax = plt.subplots()\n",
    "        ax.plot(t, s)\n",
    "        ax.set_xlabel('Iterations')\n",
    "        ax.set_ylabel('Error')\n",
    "        ax.grid()\n",
    "\n",
    "        plt.show()\n",
    "        \n",
    "    def fit(self, X_train, y_train):\n",
    "        X_train = self.normalize_train_data(X_train)\n",
    "        X_train = self.add_column_zero(X_train)\n",
    "        if self.solution_type == 'closed':\n",
    "            self.closed_solution(X_train, y_train)\n",
    "        elif self.solution_type == 'gd':\n",
    "            self.weights = np.zeros(X_train.shape[1])\n",
    "            self.gradient_descent(X_train, y_train)\n",
    "        elif self.solution_type == 'sgd':\n",
    "            self.weights = np.zeros(X_train.shape[1])\n",
    "            X_train, X_test, y_train, y_test = train_test_split(X_train, y_train, test_size=0.1, random_state=42)    \n",
    "            self.gradient_descent(X_train, y_train)\n",
    "    \n",
    "    def predict(self, X_test):\n",
    "        X_test = self.normalize_test_data(X_test)\n",
    "        X_test = self.add_column_zero(X_test)\n",
    "        self.y_hat =  np.matmul(X_test, self.weights)\n",
    "        return self.y_hat\n",
    "    \n",
    "    def evaluate(self, X, y, mode):\n",
    "        if mode == 'train':\n",
    "            results = self.predict(X)\n",
    "            sse = self.sse_function(results, y)\n",
    "            rmse = self.rmse_function(results, y)\n",
    "            print('Train set RMSE: ', rmse)\n",
    "            print('Train set SSE: ', sse)\n",
    "        elif mode == 'test':\n",
    "            results = self.predict(X)\n",
    "            sse = self.sse_function(results, y)\n",
    "            rmse = self.rmse_function(results, y)\n",
    "            print('Test set RMSE: ', rmse)\n",
    "            print('Test set SSE: ', sse)\n",
    "        "
   ],
   "metadata": {
    "collapsed": false,
    "ExecuteTime": {
     "end_time": "2024-02-12T22:58:34.121256Z",
     "start_time": "2024-02-12T22:58:34.114938Z"
    }
   },
   "id": "74176d310458ca34",
   "execution_count": 478
  },
  {
   "cell_type": "markdown",
   "source": [
    "Housing Dataset"
   ],
   "metadata": {
    "collapsed": false
   },
   "id": "54fa481e12b6a7fc"
  },
  {
   "cell_type": "code",
   "outputs": [],
   "source": [
    "dataframe = pd.read_csv('housing.csv',header=None)\n",
    "X = dataframe.iloc[:, :-1]\n",
    "y = dataframe.iloc[:, -1]"
   ],
   "metadata": {
    "collapsed": false,
    "ExecuteTime": {
     "end_time": "2024-02-12T22:58:35.919128Z",
     "start_time": "2024-02-12T22:58:35.906519Z"
    }
   },
   "id": "dd6567565e44b270",
   "execution_count": 479
  },
  {
   "cell_type": "code",
   "outputs": [],
   "source": [
    "X_train, X_test, y_train, y_test = train_test_split(X, y, test_size=0.33, random_state=21)    "
   ],
   "metadata": {
    "collapsed": false,
    "ExecuteTime": {
     "end_time": "2024-02-12T22:58:36.817927Z",
     "start_time": "2024-02-12T22:58:36.802207Z"
    }
   },
   "id": "2f9a50bf95e27526",
   "execution_count": 480
  },
  {
   "cell_type": "markdown",
   "source": [
    "Closed Solution"
   ],
   "metadata": {
    "collapsed": false
   },
   "id": "95951c2943a22787"
  },
  {
   "cell_type": "code",
   "outputs": [],
   "source": [
    "lr = LinearRegression(learning_rate=0.4 * 1e-3,tolerance=0.5 * 1e-2, solution_type='closed', regularization=True, regularization_constant=0.00005, iterations=50000)"
   ],
   "metadata": {
    "collapsed": false,
    "ExecuteTime": {
     "end_time": "2024-02-12T22:58:37.694522Z",
     "start_time": "2024-02-12T22:58:37.690723Z"
    }
   },
   "id": "dcb099425eec4847",
   "execution_count": 481
  },
  {
   "cell_type": "code",
   "outputs": [],
   "source": [
    "lr.fit(X_train, y_train)"
   ],
   "metadata": {
    "collapsed": false,
    "ExecuteTime": {
     "end_time": "2024-02-12T22:58:38.043334Z",
     "start_time": "2024-02-12T22:58:38.024624Z"
    }
   },
   "id": "39c7a23b64786dff",
   "execution_count": 482
  },
  {
   "cell_type": "code",
   "outputs": [
    {
     "name": "stdout",
     "output_type": "stream",
     "text": [
      "Train set RMSE:  4.490210515560171\n",
      "Train set SSE:  6834.914770701978\n",
      "Test set RMSE:  5.122003575909241\n",
      "Test set SSE:  4381.231745481717\n"
     ]
    }
   ],
   "source": [
    "lr.evaluate(X_train,y_train,'train')\n",
    "lr.evaluate(X_test,y_test,'test')"
   ],
   "metadata": {
    "collapsed": false,
    "ExecuteTime": {
     "end_time": "2024-02-12T22:58:38.387933Z",
     "start_time": "2024-02-12T22:58:38.384712Z"
    }
   },
   "id": "6d023c3bd7c0ed1",
   "execution_count": 483
  },
  {
   "cell_type": "markdown",
   "source": [
    "Gradient Descent Solution"
   ],
   "metadata": {
    "collapsed": false
   },
   "id": "2da6d591f2f597ea"
  },
  {
   "cell_type": "code",
   "outputs": [],
   "source": [
    "lr = LinearRegression(learning_rate=0.4 * 1e-3,tolerance=0.5 * 1e-2, solution_type='gd', regularization=True, regularization_constant=0.00005, iterations=50000)"
   ],
   "metadata": {
    "collapsed": false,
    "ExecuteTime": {
     "end_time": "2024-02-12T22:58:47.454989Z",
     "start_time": "2024-02-12T22:58:47.451235Z"
    }
   },
   "id": "8a54d40b290d7be6",
   "execution_count": 484
  },
  {
   "cell_type": "code",
   "outputs": [
    {
     "name": "stderr",
     "output_type": "stream",
     "text": [
      "  0%|\u001B[35m          \u001B[0m| 33/49999 [00:00<00:12, 4025.95it/s]"
     ]
    },
    {
     "name": "stdout",
     "output_type": "stream",
     "text": [
      "Model Stopped learning\n"
     ]
    },
    {
     "name": "stderr",
     "output_type": "stream",
     "text": [
      "\n"
     ]
    },
    {
     "data": {
      "text/plain": "<Figure size 640x480 with 1 Axes>",
      "image/png": "[encoded data removed]"
     },
     "metadata": {},
     "output_type": "display_data"
    }
   ],
   "source": [
    "lr.fit(X_train, y_train)"
   ],
   "metadata": {
    "collapsed": false,
    "ExecuteTime": {
     "end_time": "2024-02-12T22:58:48.518510Z",
     "start_time": "2024-02-12T22:58:48.412605Z"
    }
   },
   "id": "ee5084c06c73eea2",
   "execution_count": 485
  },
  {
   "cell_type": "code",
   "outputs": [
    {
     "name": "stdout",
     "output_type": "stream",
     "text": [
      "Train set RMSE:  4.604565837987697\n",
      "Train set SSE:  7187.487002607174\n",
      "Test set RMSE:  5.091627607807058\n",
      "Test set SSE:  4329.420173329364\n"
     ]
    }
   ],
   "source": [
    "lr.evaluate(X_train,y_train,'train')\n",
    "lr.evaluate(X_test,y_test,'test')"
   ],
   "metadata": {
    "collapsed": false,
    "ExecuteTime": {
     "end_time": "2024-02-12T22:58:55.155838Z",
     "start_time": "2024-02-12T22:58:55.133865Z"
    }
   },
   "id": "3b731d6ba2250cbd",
   "execution_count": 486
  },
  {
   "cell_type": "markdown",
   "source": [
    "Stochiastic Gradient Descent"
   ],
   "metadata": {
    "collapsed": false
   },
   "id": "b53045f2f7b7a26b"
  },
  {
   "cell_type": "code",
   "outputs": [],
   "source": [
    "lr = LinearRegression(learning_rate=0.4 * 1e-3,tolerance=0.5 * 1e-2, solution_type='gd', regularization=True, regularization_constant=0.00005, iterations=50000)"
   ],
   "metadata": {
    "collapsed": false,
    "ExecuteTime": {
     "end_time": "2024-02-12T22:59:07.551712Z",
     "start_time": "2024-02-12T22:59:07.533614Z"
    }
   },
   "id": "966f226be87938c9",
   "execution_count": 487
  },
  {
   "cell_type": "code",
   "outputs": [
    {
     "name": "stderr",
     "output_type": "stream",
     "text": [
      "  0%|\u001B[35m          \u001B[0m| 33/49999 [00:00<00:08, 5795.42it/s]"
     ]
    },
    {
     "name": "stdout",
     "output_type": "stream",
     "text": [
      "Model Stopped learning\n"
     ]
    },
    {
     "name": "stderr",
     "output_type": "stream",
     "text": [
      "\n"
     ]
    },
    {
     "data": {
      "text/plain": "<Figure size 640x480 with 1 Axes>",
      "image/png": "[encoded data removed]"
     },
     "metadata": {},
     "output_type": "display_data"
    }
   ],
   "source": [
    "lr.fit(X_train, y_train)"
   ],
   "metadata": {
    "collapsed": false,
    "ExecuteTime": {
     "end_time": "2024-02-12T22:59:08.054011Z",
     "start_time": "2024-02-12T22:59:07.963368Z"
    }
   },
   "id": "6a6434748379196",
   "execution_count": 488
  },
  {
   "cell_type": "code",
   "outputs": [
    {
     "name": "stdout",
     "output_type": "stream",
     "text": [
      "Train set RMSE:  4.604565837987697\n",
      "Train set SSE:  7187.487002607174\n",
      "Test set RMSE:  5.091627607807058\n",
      "Test set SSE:  4329.420173329364\n"
     ]
    }
   ],
   "source": [
    "lr.evaluate(X_train,y_train,'train')\n",
    "lr.evaluate(X_test,y_test,'test')"
   ],
   "metadata": {
    "collapsed": false,
    "ExecuteTime": {
     "end_time": "2024-02-12T22:59:08.730105Z",
     "start_time": "2024-02-12T22:59:08.724539Z"
    }
   },
   "id": "e1c7e0a0746dcc17",
   "execution_count": 489
  },
  {
   "cell_type": "markdown",
   "source": [
    "Concrete Dataset"
   ],
   "metadata": {
    "collapsed": false
   },
   "id": "8b79f5cb71064a55"
  },
  {
   "cell_type": "code",
   "outputs": [],
   "source": [
    "dataframe = pd.read_csv('concreteData.csv',header=None)\n",
    "X = dataframe.iloc[:, :-1]\n",
    "y = dataframe.iloc[:, -1]"
   ],
   "metadata": {
    "collapsed": false,
    "ExecuteTime": {
     "end_time": "2024-02-12T22:59:30.392875Z",
     "start_time": "2024-02-12T22:59:30.376281Z"
    }
   },
   "id": "dbf269fcde533b1b",
   "execution_count": 490
  },
  {
   "cell_type": "code",
   "outputs": [],
   "source": [
    "X_train, X_test, y_train, y_test = train_test_split(X, y, test_size=0.33, random_state=21)"
   ],
   "metadata": {
    "collapsed": false,
    "ExecuteTime": {
     "end_time": "2024-02-12T22:59:30.787005Z",
     "start_time": "2024-02-12T22:59:30.770907Z"
    }
   },
   "id": "900d7f2d656ddda7",
   "execution_count": 491
  },
  {
   "cell_type": "markdown",
   "source": [
    "Closed Solution"
   ],
   "metadata": {
    "collapsed": false
   },
   "id": "440991b5b38cdf69"
  },
  {
   "cell_type": "code",
   "outputs": [],
   "source": [
    "lr = LinearRegression(learning_rate=0.7 * 1e-3,tolerance=0.1 * 1e-3, solution_type='closed', regularization=True, regularization_constant=0.00005, iterations=50000)"
   ],
   "metadata": {
    "collapsed": false,
    "ExecuteTime": {
     "end_time": "2024-02-12T22:59:31.979574Z",
     "start_time": "2024-02-12T22:59:31.975892Z"
    }
   },
   "id": "bf05503baca86cdc",
   "execution_count": 492
  },
  {
   "cell_type": "code",
   "outputs": [],
   "source": [
    "lr.fit(X_train,y_train)"
   ],
   "metadata": {
    "collapsed": false,
    "ExecuteTime": {
     "end_time": "2024-02-12T22:59:32.750205Z",
     "start_time": "2024-02-12T22:59:32.733731Z"
    }
   },
   "id": "ed742e8b2a353060",
   "execution_count": 493
  },
  {
   "cell_type": "code",
   "outputs": [
    {
     "name": "stdout",
     "output_type": "stream",
     "text": [
      "Train set RMSE:  10.450029346940386\n",
      "Train set SSE:  75350.14821282157\n",
      "Test set RMSE:  10.211771794084349\n",
      "Test set SSE:  35455.29627931528\n"
     ]
    }
   ],
   "source": [
    "lr.evaluate(X_train,y_train,'train')\n",
    "lr.evaluate(X_test,y_test,'test')"
   ],
   "metadata": {
    "collapsed": false,
    "ExecuteTime": {
     "end_time": "2024-02-12T22:59:33.212075Z",
     "start_time": "2024-02-12T22:59:33.207323Z"
    }
   },
   "id": "5524cb807c4749ba",
   "execution_count": 494
  },
  {
   "cell_type": "markdown",
   "source": [
    "Gradient Descent"
   ],
   "metadata": {
    "collapsed": false
   },
   "id": "1345abad55fe554a"
  },
  {
   "cell_type": "code",
   "outputs": [],
   "source": [
    "lr = LinearRegression(learning_rate=0.7 * 1e-3,tolerance=0.1 * 1e-3, solution_type='gd', regularization=True, regularization_constant=0.00005, iterations=50000)"
   ],
   "metadata": {
    "collapsed": false,
    "ExecuteTime": {
     "end_time": "2024-02-12T23:00:13.966639Z",
     "start_time": "2024-02-12T23:00:13.957341Z"
    }
   },
   "id": "bf23ee37ec23af36",
   "execution_count": 498
  },
  {
   "cell_type": "code",
   "outputs": [
    {
     "name": "stderr",
     "output_type": "stream",
     "text": [
      "  0%|\u001B[35m          \u001B[0m| 131/49999 [00:00<00:10, 4977.34it/s]"
     ]
    },
    {
     "name": "stdout",
     "output_type": "stream",
     "text": [
      "Model Stopped learning\n"
     ]
    },
    {
     "name": "stderr",
     "output_type": "stream",
     "text": [
      "\n"
     ]
    },
    {
     "data": {
      "text/plain": "<Figure size 640x480 with 1 Axes>",
      "image/png": "[encoded data removed]"
     },
     "metadata": {},
     "output_type": "display_data"
    }
   ],
   "source": [
    "lr.fit(X_train,y_train)"
   ],
   "metadata": {
    "collapsed": false,
    "ExecuteTime": {
     "end_time": "2024-02-12T23:00:18.958216Z",
     "start_time": "2024-02-12T23:00:18.833426Z"
    }
   },
   "id": "4a598a5cb10275d1",
   "execution_count": 499
  },
  {
   "cell_type": "code",
   "outputs": [
    {
     "name": "stdout",
     "output_type": "stream",
     "text": [
      "Train set RMSE:  10.453329919974891\n",
      "Train set SSE:  75397.75342693117\n",
      "Test set RMSE:  10.2288929812143\n",
      "Test set SSE:  35574.28555118595\n"
     ]
    }
   ],
   "source": [
    "lr.evaluate(X_train,y_train,'train')\n",
    "lr.evaluate(X_test,y_test,'test')"
   ],
   "metadata": {
    "collapsed": false,
    "ExecuteTime": {
     "end_time": "2024-02-12T23:00:20.253006Z",
     "start_time": "2024-02-12T23:00:20.248373Z"
    }
   },
   "id": "49238abaf15ae015",
   "execution_count": 500
  },
  {
   "cell_type": "markdown",
   "source": [
    "Stochiastic Gradient Descent"
   ],
   "metadata": {
    "collapsed": false
   },
   "id": "83ad7f8ed5791502"
  },
  {
   "cell_type": "code",
   "outputs": [],
   "source": [
    "lr = LinearRegression(learning_rate=0.7 * 1e-3,tolerance=0.1 * 1e-3, solution_type='sgd', regularization=True, regularization_constant=0.00005, iterations=50000)"
   ],
   "metadata": {
    "collapsed": false,
    "ExecuteTime": {
     "end_time": "2024-02-12T23:00:26.868148Z",
     "start_time": "2024-02-12T23:00:26.855794Z"
    }
   },
   "id": "9e3f29504980e95f",
   "execution_count": 501
  },
  {
   "cell_type": "code",
   "outputs": [
    {
     "name": "stderr",
     "output_type": "stream",
     "text": [
      "  0%|\u001B[35m          \u001B[0m| 130/49999 [00:00<00:10, 4922.40it/s]"
     ]
    },
    {
     "name": "stdout",
     "output_type": "stream",
     "text": [
      "Model Stopped learning\n"
     ]
    },
    {
     "name": "stderr",
     "output_type": "stream",
     "text": [
      "\n"
     ]
    },
    {
     "data": {
      "text/plain": "<Figure size 640x480 with 1 Axes>",
      "image/png": "[encoded data removed]"
     },
     "metadata": {},
     "output_type": "display_data"
    }
   ],
   "source": [
    "lr.fit(X_train,y_train)"
   ],
   "metadata": {
    "collapsed": false,
    "ExecuteTime": {
     "end_time": "2024-02-12T23:00:27.316688Z",
     "start_time": "2024-02-12T23:00:27.207042Z"
    }
   },
   "id": "189e6ec5a556cd7a",
   "execution_count": 502
  },
  {
   "cell_type": "code",
   "outputs": [
    {
     "name": "stdout",
     "output_type": "stream",
     "text": [
      "Train set RMSE:  10.482749718577786\n",
      "Train set SSE:  75822.74874701642\n",
      "Test set RMSE:  10.336227069202732\n",
      "Test set SSE:  36324.78060888055\n"
     ]
    }
   ],
   "source": [
    "lr.evaluate(X_train, y_train, 'train')\n",
    "lr.evaluate(X_test, y_test, 'test')"
   ],
   "metadata": {
    "collapsed": false,
    "ExecuteTime": {
     "end_time": "2024-02-12T23:00:28.340909Z",
     "start_time": "2024-02-12T23:00:28.320549Z"
    }
   },
   "id": "f719214823a229a2",
   "execution_count": 503
  },
  {
   "cell_type": "markdown",
   "source": [
    "Yacht Dataset"
   ],
   "metadata": {
    "collapsed": false
   },
   "id": "9f4711fb1bfd6031"
  },
  {
   "cell_type": "code",
   "outputs": [],
   "source": [
    "dataframe = pd.read_csv('concreteData.csv',header=None)\n",
    "X = dataframe.iloc[:, :-1]\n",
    "y = dataframe.iloc[:, -1]"
   ],
   "metadata": {
    "collapsed": false,
    "ExecuteTime": {
     "end_time": "2024-02-12T23:00:36.752313Z",
     "start_time": "2024-02-12T23:00:36.747398Z"
    }
   },
   "id": "96393dfc3b78bfaf",
   "execution_count": 504
  },
  {
   "cell_type": "code",
   "outputs": [],
   "source": [
    "X_train, X_test, y_train, y_test = train_test_split(X, y, test_size=0.33, random_state=21)"
   ],
   "metadata": {
    "collapsed": false,
    "ExecuteTime": {
     "end_time": "2024-02-12T23:00:37.459800Z",
     "start_time": "2024-02-12T23:00:37.435082Z"
    }
   },
   "id": "9606714e8e6ef9c",
   "execution_count": 505
  },
  {
   "cell_type": "markdown",
   "source": [
    "Closed Solution"
   ],
   "metadata": {
    "collapsed": false
   },
   "id": "13f1d5b08163b620"
  },
  {
   "cell_type": "code",
   "outputs": [],
   "source": [
    "lr = LinearRegression(learning_rate=0.1 * 1e-2,tolerance=0.1 * 1e-2, solution_type='closed', regularization=True, regularization_constant=0.00005, iterations=50000)"
   ],
   "metadata": {
    "collapsed": false,
    "ExecuteTime": {
     "end_time": "2024-02-12T23:00:39.058509Z",
     "start_time": "2024-02-12T23:00:39.045470Z"
    }
   },
   "id": "7d5cce9961823a01",
   "execution_count": 506
  },
  {
   "cell_type": "code",
   "outputs": [],
   "source": [
    "lr.fit(X_train,y_train)"
   ],
   "metadata": {
    "collapsed": false,
    "ExecuteTime": {
     "end_time": "2024-02-12T23:00:39.414659Z",
     "start_time": "2024-02-12T23:00:39.396259Z"
    }
   },
   "id": "a70a09df648401a3",
   "execution_count": 507
  },
  {
   "cell_type": "code",
   "outputs": [
    {
     "name": "stdout",
     "output_type": "stream",
     "text": [
      "Train set RMSE:  10.450029346940386\n",
      "Train set SSE:  75350.14821282157\n",
      "Test set RMSE:  10.211771794084349\n",
      "Test set SSE:  35455.29627931528\n"
     ]
    }
   ],
   "source": [
    "lr.evaluate(X_train, y_train, 'train')\n",
    "lr.evaluate(X_test, y_test, 'test')"
   ],
   "metadata": {
    "collapsed": false,
    "ExecuteTime": {
     "end_time": "2024-02-12T23:00:39.811675Z",
     "start_time": "2024-02-12T23:00:39.806823Z"
    }
   },
   "id": "f835c63aa04ff05",
   "execution_count": 508
  },
  {
   "cell_type": "markdown",
   "source": [
    "Gradient Descent"
   ],
   "metadata": {
    "collapsed": false
   },
   "id": "905430cb646a98c0"
  },
  {
   "cell_type": "code",
   "outputs": [],
   "source": [
    "lr = LinearRegression(learning_rate=0.1 * 1e-2,tolerance=0.1 * 1e-2, solution_type='gd', regularization=True, regularization_constant=0.00005, iterations=50000)"
   ],
   "metadata": {
    "collapsed": false,
    "ExecuteTime": {
     "end_time": "2024-02-12T23:00:58.250898Z",
     "start_time": "2024-02-12T23:00:58.248935Z"
    }
   },
   "id": "f8887144a3270871",
   "execution_count": 509
  },
  {
   "cell_type": "code",
   "outputs": [
    {
     "name": "stderr",
     "output_type": "stream",
     "text": [
      "  0%|\u001B[35m          \u001B[0m| 46/49999 [00:00<00:08, 6019.53it/s]"
     ]
    },
    {
     "name": "stdout",
     "output_type": "stream",
     "text": [
      "Model Stopped learning\n"
     ]
    },
    {
     "name": "stderr",
     "output_type": "stream",
     "text": [
      "\n"
     ]
    },
    {
     "data": {
      "text/plain": "<Figure size 640x480 with 1 Axes>",
      "image/png": "[encoded data removed]"
     },
     "metadata": {},
     "output_type": "display_data"
    }
   ],
   "source": [
    "lr.fit(X_train,y_train)"
   ],
   "metadata": {
    "collapsed": false,
    "ExecuteTime": {
     "end_time": "2024-02-12T23:00:58.721995Z",
     "start_time": "2024-02-12T23:00:58.635587Z"
    }
   },
   "id": "f43dcd2adf95bbdf",
   "execution_count": 510
  },
  {
   "cell_type": "code",
   "outputs": [
    {
     "name": "stdout",
     "output_type": "stream",
     "text": [
      "Train set RMSE:  10.472498634461038\n",
      "Train set SSE:  75674.52707766394\n",
      "Test set RMSE:  10.271788645554823\n",
      "Test set SSE:  35873.278272842654\n"
     ]
    }
   ],
   "source": [
    "lr.evaluate(X_train, y_train, 'train')\n",
    "lr.evaluate(X_test, y_test, 'test')"
   ],
   "metadata": {
    "collapsed": false,
    "ExecuteTime": {
     "end_time": "2024-02-12T23:00:58.875803Z",
     "start_time": "2024-02-12T23:00:58.868483Z"
    }
   },
   "id": "122ec79957f088ab",
   "execution_count": 511
  },
  {
   "cell_type": "markdown",
   "source": [
    "Stochiastic Gradient Descent"
   ],
   "metadata": {
    "collapsed": false
   },
   "id": "c4c5c05cb78c4a70"
  },
  {
   "cell_type": "code",
   "outputs": [],
   "source": [
    "lr = LinearRegression(learning_rate=0.1 * 1e-2,tolerance=0.1 * 1e-2, solution_type='sgd', regularization=True, regularization_constant=0.00005, iterations=50000)"
   ],
   "metadata": {
    "collapsed": false,
    "ExecuteTime": {
     "end_time": "2024-02-12T23:01:02.121586Z",
     "start_time": "2024-02-12T23:01:02.116591Z"
    }
   },
   "id": "101c23beade830b8",
   "execution_count": 512
  },
  {
   "cell_type": "code",
   "outputs": [
    {
     "name": "stderr",
     "output_type": "stream",
     "text": [
      "  0%|\u001B[35m          \u001B[0m| 41/49999 [00:00<00:14, 3529.62it/s]"
     ]
    },
    {
     "name": "stdout",
     "output_type": "stream",
     "text": [
      "Model Stopped learning\n"
     ]
    },
    {
     "name": "stderr",
     "output_type": "stream",
     "text": [
      "\n"
     ]
    },
    {
     "data": {
      "text/plain": "<Figure size 640x480 with 1 Axes>",
      "image/png": "[encoded data removed]"
     },
     "metadata": {},
     "output_type": "display_data"
    }
   ],
   "source": [
    "lr.fit(X_train,y_train)"
   ],
   "metadata": {
    "collapsed": false,
    "ExecuteTime": {
     "end_time": "2024-02-12T23:01:02.674584Z",
     "start_time": "2024-02-12T23:01:02.574168Z"
    }
   },
   "id": "f8cffd906716cfe4",
   "execution_count": 513
  },
  {
   "cell_type": "code",
   "outputs": [
    {
     "name": "stdout",
     "output_type": "stream",
     "text": [
      "Train set RMSE:  10.515575155031915\n",
      "Train set SSE:  76298.35138037588\n",
      "Test set RMSE:  10.396096110587576\n",
      "Test set SSE:  36746.796875795204\n"
     ]
    }
   ],
   "source": [
    "lr.evaluate(X_train, y_train, 'train')\n",
    "lr.evaluate(X_test, y_test, 'test')"
   ],
   "metadata": {
    "collapsed": false,
    "ExecuteTime": {
     "end_time": "2024-02-12T23:01:03.407076Z",
     "start_time": "2024-02-12T23:01:03.396988Z"
    }
   },
   "id": "db5533c0e9503d92",
   "execution_count": 514
  },
  {
   "cell_type": "code",
   "outputs": [],
   "source": [],
   "metadata": {
    "collapsed": false
   },
   "id": "4abd12c8fad5ff62"
  }
 ],
 "metadata": {
  "kernelspec": {
   "display_name": "Python 3",
   "language": "python",
   "name": "python3"
  },
  "language_info": {
   "codemirror_mode": {
    "name": "ipython",
    "version": 2
   },
   "file_extension": ".py",
   "mimetype": "text/x-python",
   "name": "python",
   "nbconvert_exporter": "python",
   "pygments_lexer": "ipython2",
   "version": "2.7.6"
  }
 },
 "nbformat": 4,
 "nbformat_minor": 5
}
