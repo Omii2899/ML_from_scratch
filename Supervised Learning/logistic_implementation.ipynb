{
 "cells": [
  {
   "cell_type": "code",
   "id": "initial_id",
   "metadata": {
    "collapsed": true,
    "ExecuteTime": {
     "end_time": "2024-04-15T15:50:54.482544Z",
     "start_time": "2024-04-15T15:50:54.452686Z"
    }
   },
   "source": [
    "import pandas as pd\n",
    "import numpy as np\n",
    "import matplotlib.pyplot as plt\n",
    "from sklearn.model_selection import train_test_split\n",
    "from tqdm import tqdm"
   ],
   "outputs": [],
   "execution_count": 155
  },
  {
   "metadata": {
    "ExecuteTime": {
     "end_time": "2024-04-15T19:14:23.584275Z",
     "start_time": "2024-04-15T19:14:23.574967Z"
    }
   },
   "cell_type": "code",
   "source": [
    "class LogisticRegression:\n",
    "    \n",
    "    def __init__(self, iterations, learning_rate, regularization, regularization_parameter,tolerance):\n",
    "        self.mean = None\n",
    "        self.std = None\n",
    "        self.X_train = None\n",
    "        self.X_test = None\n",
    "        self.y_test = None\n",
    "        self.y_train = None\n",
    "        self.remove_indexes = None\n",
    "        self.y = None\n",
    "        self.X = None\n",
    "        self.weights = None\n",
    "        self.iterations = iterations\n",
    "        self.learning_rate = learning_rate\n",
    "        self.regularization = regularization\n",
    "        self.regularization_parameter = regularization_parameter\n",
    "        self.tolerance = tolerance\n",
    "    \n",
    "    @staticmethod\n",
    "    def sigmoid(x):\n",
    "        return 1 / (1 + np.exp(-x))\n",
    "    \n",
    "    def gradient_calculation(self):\n",
    "        y_pred = self.sigmoid(np.matmul(self.X_train,self.weights))\n",
    "        return self.X_train.T.dot(y_pred - y)\n",
    "    \n",
    "    def cost_function(self):\n",
    "        y_pred = self.sigmoid(np.matmul(self.X_train,self.weights))\n",
    "        cost = self.y_train * np.log(y_pred) + (1 - self.y_train) * np.log(1 - y_pred)\n",
    "        print(cost.shape)\n",
    "        cost = -np.sum(cost)\n",
    "        return cost\n",
    "\n",
    "    def gradient_descent(self):\n",
    "        self.weights = np.zeros(shape= (self.X_train.shape[1],1))\n",
    "        for i in tqdm(range(self.iterations), colour= 'WHITE'):\n",
    "            self.weights -= self.learning_rate * self.gradient_calculation()\n",
    "            self.cost = self.cost_function()\n",
    "            break\n",
    "    \n",
    "    def remove_index(self):\n",
    "        self.X.drop(self.remove_indexes, axis=0, inplace=True)\n",
    "        self.y.drop(self.remove_indexes, axis=0, inplace=True)\n",
    "        return self.X, self.y\n",
    "    \n",
    "    def normalize_x_train(self):\n",
    "        self.mean = np.mean(self.X_train, axis=0)\n",
    "        self.std = np.std(self.X_train, axis=0)\n",
    "        self.X_train = (self.X_train - self.mean)/self.std\n",
    "    \n",
    "    def normalize_x_test(self):\n",
    "        self.X_test = (self.X_test - self.mean)/self.std\n",
    "        \n",
    "    def add_x0_columns(self):\n",
    "        self.X_train = np.column_stack((np.ones(len(self.X_train)),self.X_train))\n",
    "        self.X_test = np.column_stack((np.ones(len(self.X_test)),self.X_test))\n",
    "        \n",
    "    def fit(self, X, y, remove_indexes):\n",
    "        self.X = X\n",
    "        self.y = y\n",
    "        self.remove_indexes = remove_indexes\n",
    "        if len(self.remove_indexes) != 0:\n",
    "            self.X , self.y = self.remove_index()\n",
    "        if type(X) == pd.DataFrame and type(y) == pd.Series:\n",
    "            self.X = np.array(X)\n",
    "            self.y = np.array(y)\n",
    "            self.y = self.y.reshape(-1, 1) \n",
    "        elif type(X) == np.ndarray and type(y) == np.ndarray:    \n",
    "            self.X = X\n",
    "            self.y = y\n",
    "            self.y = self.y.reshape(-1, 1) \n",
    "        else:\n",
    "            print('X & y must be of type pd.DataFrame or np.ndarray')\n",
    "        self.X_train, self.X_test, self.y_train, self.y_test = train_test_split(self.X, self.y, test_size=0.2, shuffle=True)\n",
    "        self.normalize_x_train()\n",
    "        self.normalize_x_test()\n",
    "        self.add_x0_columns()\n",
    "        # self.gradient_descent()\n",
    "    \n",
    "    def predict(self, X_test):\n",
    "        pass\n",
    "    \n",
    "    def evaluate(self, X_test, y_test):\n",
    "        pass\n",
    "    \n",
    "    "
   ],
   "id": "547830f43247f99e",
   "outputs": [],
   "execution_count": 333
  },
  {
   "metadata": {
    "ExecuteTime": {
     "end_time": "2024-04-15T19:14:23.990241Z",
     "start_time": "2024-04-15T19:14:23.987740Z"
    }
   },
   "cell_type": "code",
   "source": "logistic_reg = LogisticRegression(iterations=100, learning_rate=0.1, regularization=0.1, regularization_parameter=0.1, tolerance=0.1)",
   "id": "dc5fa3f8d6d94919",
   "outputs": [],
   "execution_count": 334
  },
  {
   "metadata": {
    "ExecuteTime": {
     "end_time": "2024-04-15T19:14:24.388860Z",
     "start_time": "2024-04-15T19:14:24.386907Z"
    }
   },
   "cell_type": "code",
   "source": "# logistic_reg.gradient_descent()",
   "id": "4c67f67c804f68a9",
   "outputs": [],
   "execution_count": 335
  },
  {
   "metadata": {
    "ExecuteTime": {
     "end_time": "2024-04-15T19:14:24.633160Z",
     "start_time": "2024-04-15T19:14:24.623781Z"
    }
   },
   "cell_type": "code",
   "source": [
    "data = pd.read_excel('Lab3_data.xls')\n",
    "X = data.loc[:, ['x1', 'x2']]\n",
    "y = data.loc[:, 'y']"
   ],
   "id": "29901d1db7464ce9",
   "outputs": [],
   "execution_count": 336
  },
  {
   "metadata": {
    "ExecuteTime": {
     "end_time": "2024-04-15T19:14:24.827337Z",
     "start_time": "2024-04-15T19:14:24.823121Z"
    }
   },
   "cell_type": "code",
   "source": "logistic_reg.fit(X, y, remove_indexes=[1,39])",
   "id": "e1a849263e30a945",
   "outputs": [],
   "execution_count": 337
  },
  {
   "metadata": {
    "ExecuteTime": {
     "end_time": "2024-04-15T19:14:25.067680Z",
     "start_time": "2024-04-15T19:14:25.028598Z"
    }
   },
   "cell_type": "code",
   "source": "logistic_reg.cost_function()",
   "id": "757b8586cb6eb9ad",
   "outputs": [
    {
     "ename": "ValueError",
     "evalue": "matmul: Input operand 1 does not have enough dimensions (has 0, gufunc core with signature (n?,k),(k,m?)->(n?,m?) requires 1)",
     "output_type": "error",
     "traceback": [
      "\u001B[0;31m---------------------------------------------------------------------------\u001B[0m",
      "\u001B[0;31mValueError\u001B[0m                                Traceback (most recent call last)",
      "Cell \u001B[0;32mIn[338], line 1\u001B[0m\n\u001B[0;32m----> 1\u001B[0m \u001B[43mlogistic_reg\u001B[49m\u001B[38;5;241;43m.\u001B[39;49m\u001B[43mcost_function\u001B[49m\u001B[43m(\u001B[49m\u001B[43m)\u001B[49m\n",
      "Cell \u001B[0;32mIn[333], line 29\u001B[0m, in \u001B[0;36mLogisticRegression.cost_function\u001B[0;34m(self)\u001B[0m\n\u001B[1;32m     28\u001B[0m \u001B[38;5;28;01mdef\u001B[39;00m \u001B[38;5;21mcost_function\u001B[39m(\u001B[38;5;28mself\u001B[39m):\n\u001B[0;32m---> 29\u001B[0m     y_pred \u001B[38;5;241m=\u001B[39m \u001B[38;5;28mself\u001B[39m\u001B[38;5;241m.\u001B[39msigmoid(\u001B[43mnp\u001B[49m\u001B[38;5;241;43m.\u001B[39;49m\u001B[43mmatmul\u001B[49m\u001B[43m(\u001B[49m\u001B[38;5;28;43mself\u001B[39;49m\u001B[38;5;241;43m.\u001B[39;49m\u001B[43mX_train\u001B[49m\u001B[43m,\u001B[49m\u001B[38;5;28;43mself\u001B[39;49m\u001B[38;5;241;43m.\u001B[39;49m\u001B[43mweights\u001B[49m\u001B[43m)\u001B[49m)\n\u001B[1;32m     30\u001B[0m     cost \u001B[38;5;241m=\u001B[39m \u001B[38;5;28mself\u001B[39m\u001B[38;5;241m.\u001B[39my_train \u001B[38;5;241m*\u001B[39m np\u001B[38;5;241m.\u001B[39mlog(y_pred) \u001B[38;5;241m+\u001B[39m (\u001B[38;5;241m1\u001B[39m \u001B[38;5;241m-\u001B[39m \u001B[38;5;28mself\u001B[39m\u001B[38;5;241m.\u001B[39my_train) \u001B[38;5;241m*\u001B[39m np\u001B[38;5;241m.\u001B[39mlog(\u001B[38;5;241m1\u001B[39m \u001B[38;5;241m-\u001B[39m y_pred)\n\u001B[1;32m     31\u001B[0m     \u001B[38;5;28mprint\u001B[39m(cost\u001B[38;5;241m.\u001B[39mshape)\n",
      "\u001B[0;31mValueError\u001B[0m: matmul: Input operand 1 does not have enough dimensions (has 0, gufunc core with signature (n?,k),(k,m?)->(n?,m?) requires 1)"
     ]
    }
   ],
   "execution_count": 338
  },
  {
   "metadata": {
    "ExecuteTime": {
     "end_time": "2024-04-15T18:31:35.694962Z",
     "start_time": "2024-04-15T18:31:35.691237Z"
    }
   },
   "cell_type": "code",
   "source": "",
   "id": "ba36ba55456a2225",
   "outputs": [],
   "execution_count": 259
  },
  {
   "metadata": {
    "ExecuteTime": {
     "end_time": "2024-04-15T18:31:35.903201Z",
     "start_time": "2024-04-15T18:31:35.900406Z"
    }
   },
   "cell_type": "code",
   "source": [
    "logistic_reg.X = X\n",
    "logistic_reg.y = y\n",
    "logistic_reg.remove_indexes = [1,39]"
   ],
   "id": "e40daa25933de26f",
   "outputs": [],
   "execution_count": 260
  },
  {
   "metadata": {
    "ExecuteTime": {
     "end_time": "2024-04-15T18:31:36.128827Z",
     "start_time": "2024-04-15T18:31:36.125020Z"
    }
   },
   "cell_type": "code",
   "source": "X, y = logistic_reg.remove_index()",
   "id": "8e446b703b5061c2",
   "outputs": [],
   "execution_count": 261
  },
  {
   "metadata": {
    "ExecuteTime": {
     "end_time": "2024-04-15T18:31:49.281055Z",
     "start_time": "2024-04-15T18:31:49.275641Z"
    }
   },
   "cell_type": "code",
   "source": "y",
   "id": "be3e9dd766b5ae72",
   "outputs": [
    {
     "data": {
      "text/plain": [
       "0     1\n",
       "2     1\n",
       "3     1\n",
       "4     1\n",
       "5     1\n",
       "     ..\n",
       "90    1\n",
       "91    1\n",
       "92    1\n",
       "93    1\n",
       "94    1\n",
       "Name: y, Length: 93, dtype: int64"
      ]
     },
     "execution_count": 263,
     "metadata": {},
     "output_type": "execute_result"
    }
   ],
   "execution_count": 263
  },
  {
   "metadata": {},
   "cell_type": "code",
   "outputs": [],
   "execution_count": null,
   "source": "",
   "id": "4c43136ca2e8bbfb"
  },
  {
   "metadata": {
    "ExecuteTime": {
     "end_time": "2024-04-15T16:27:21.761331Z",
     "start_time": "2024-04-15T16:27:21.758061Z"
    }
   },
   "cell_type": "code",
   "source": "X.shape",
   "id": "d81bbadec22f6a76",
   "outputs": [
    {
     "data": {
      "text/plain": [
       "(95, 2)"
      ]
     },
     "execution_count": 210,
     "metadata": {},
     "output_type": "execute_result"
    }
   ],
   "execution_count": 210
  },
  {
   "metadata": {
    "ExecuteTime": {
     "end_time": "2024-04-15T16:27:21.993567Z",
     "start_time": "2024-04-15T16:27:21.990366Z"
    }
   },
   "cell_type": "code",
   "source": "wei = np.ones((X.shape[1], 1))",
   "id": "95ab134ccb21d638",
   "outputs": [],
   "execution_count": 211
  },
  {
   "metadata": {
    "ExecuteTime": {
     "end_time": "2024-04-15T16:41:58.176282Z",
     "start_time": "2024-04-15T16:41:58.172185Z"
    }
   },
   "cell_type": "code",
   "source": [
    "X = np.array(X)\n",
    "y = np.array(y, ndmin = 1)"
   ],
   "id": "d957535fb4177614",
   "outputs": [],
   "execution_count": 234
  },
  {
   "metadata": {
    "ExecuteTime": {
     "end_time": "2024-04-15T16:27:23.109114Z",
     "start_time": "2024-04-15T16:27:23.106256Z"
    }
   },
   "cell_type": "code",
   "source": "z = (np.matmul(X , wei))",
   "id": "908972c00e839267",
   "outputs": [],
   "execution_count": 213
  },
  {
   "metadata": {
    "ExecuteTime": {
     "end_time": "2024-04-15T16:39:26.920983Z",
     "start_time": "2024-04-15T16:39:26.914540Z"
    }
   },
   "cell_type": "code",
   "source": "z.shape",
   "id": "7061d70348db9063",
   "outputs": [
    {
     "data": {
      "text/plain": [
       "(95, 1)"
      ]
     },
     "execution_count": 227,
     "metadata": {},
     "output_type": "execute_result"
    }
   ],
   "execution_count": 227
  },
  {
   "metadata": {
    "ExecuteTime": {
     "end_time": "2024-04-15T16:50:54.015347Z",
     "start_time": "2024-04-15T16:50:54.007352Z"
    }
   },
   "cell_type": "code",
   "source": "wei.shape",
   "id": "e8124de3b33e6cf4",
   "outputs": [
    {
     "data": {
      "text/plain": [
       "(2, 1)"
      ]
     },
     "execution_count": 242,
     "metadata": {},
     "output_type": "execute_result"
    }
   ],
   "execution_count": 242
  },
  {
   "metadata": {
    "ExecuteTime": {
     "end_time": "2024-04-15T16:38:59.492688Z",
     "start_time": "2024-04-15T16:38:59.488563Z"
    }
   },
   "cell_type": "code",
   "source": "sigmoid_value = 1 / (1 + np.exp(-z))",
   "id": "bfeb96df98f8dc22",
   "outputs": [],
   "execution_count": 223
  },
  {
   "metadata": {
    "ExecuteTime": {
     "end_time": "2024-04-15T16:39:45.375280Z",
     "start_time": "2024-04-15T16:39:45.369913Z"
    }
   },
   "cell_type": "code",
   "source": "sigmoid_value.shape",
   "id": "7b7f20d7592038c",
   "outputs": [
    {
     "data": {
      "text/plain": [
       "(95, 1)"
      ]
     },
     "execution_count": 229,
     "metadata": {},
     "output_type": "execute_result"
    }
   ],
   "execution_count": 229
  },
  {
   "metadata": {
    "ExecuteTime": {
     "end_time": "2024-04-15T16:48:43.847382Z",
     "start_time": "2024-04-15T16:48:43.838889Z"
    }
   },
   "cell_type": "code",
   "source": "y = y.reshape(-1, 1) ",
   "id": "4d7e4b4c700fda21",
   "outputs": [],
   "execution_count": 238
  },
  {
   "metadata": {
    "ExecuteTime": {
     "end_time": "2024-04-15T16:48:44.241703Z",
     "start_time": "2024-04-15T16:48:44.238609Z"
    }
   },
   "cell_type": "code",
   "source": "y.shape",
   "id": "74c195a07878d3b2",
   "outputs": [
    {
     "data": {
      "text/plain": [
       "(95, 1)"
      ]
     },
     "execution_count": 239,
     "metadata": {},
     "output_type": "execute_result"
    }
   ],
   "execution_count": 239
  },
  {
   "metadata": {
    "ExecuteTime": {
     "end_time": "2024-04-15T16:48:46.230753Z",
     "start_time": "2024-04-15T16:48:46.226485Z"
    }
   },
   "cell_type": "code",
   "source": "(sigmoid_value-y).shape",
   "id": "342245e15ef6a09e",
   "outputs": [
    {
     "data": {
      "text/plain": [
       "(95, 1)"
      ]
     },
     "execution_count": 240,
     "metadata": {},
     "output_type": "execute_result"
    }
   ],
   "execution_count": 240
  },
  {
   "metadata": {
    "ExecuteTime": {
     "end_time": "2024-04-15T16:53:09.213487Z",
     "start_time": "2024-04-15T16:53:09.206877Z"
    }
   },
   "cell_type": "code",
   "source": "new_value = X.T.dot(sigmoid_value - y)",
   "id": "97dd4c288d414003",
   "outputs": [],
   "execution_count": 243
  },
  {
   "metadata": {
    "ExecuteTime": {
     "end_time": "2024-04-15T16:53:10.050254Z",
     "start_time": "2024-04-15T16:53:10.044966Z"
    }
   },
   "cell_type": "code",
   "source": "new_value",
   "id": "b611b143eb0f2fbf",
   "outputs": [
    {
     "data": {
      "text/plain": [
       "array([[1345.],\n",
       "       [2652.]])"
      ]
     },
     "execution_count": 244,
     "metadata": {},
     "output_type": "execute_result"
    }
   ],
   "execution_count": 244
  },
  {
   "metadata": {},
   "cell_type": "code",
   "outputs": [],
   "execution_count": null,
   "source": "",
   "id": "66125303a0fbc78d"
  }
 ],
 "metadata": {
  "kernelspec": {
   "display_name": "Python 3",
   "language": "python",
   "name": "python3"
  },
  "language_info": {
   "codemirror_mode": {
    "name": "ipython",
    "version": 2
   },
   "file_extension": ".py",
   "mimetype": "text/x-python",
   "name": "python",
   "nbconvert_exporter": "python",
   "pygments_lexer": "ipython2",
   "version": "2.7.6"
  }
 },
 "nbformat": 4,
 "nbformat_minor": 5
}
